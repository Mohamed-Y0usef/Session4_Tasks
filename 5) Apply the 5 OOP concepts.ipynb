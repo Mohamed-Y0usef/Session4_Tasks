{
 "cells": [
  {
   "cell_type": "code",
   "execution_count": 9,
   "id": "2f027f1f",
   "metadata": {},
   "outputs": [],
   "source": [
    "# Encasulation\n",
    "class Bankaccount():\n",
    "    \n",
    "    def __init__(self):\n",
    "        self.customer_name = input(\"Please enter your name: \")\n",
    "        self.__customer_password = int(input(\"Please enter the password: \"))        \n",
    "        self.__customer_balance = float(input(\"Please enter Your balance: \"))    \n",
    "    \n",
    "        self.set_transaction()\n",
    "        \n",
    "    def __check_password(self):\n",
    "        pas = int(input(\"\\nPlease enter your password: \"))\n",
    "        if self.__customer_password == pas:\n",
    "            return True\n",
    "        else:\n",
    "            return False\n",
    "    \n",
    "    def __deposit(self):\n",
    "        if self.__check_password():\n",
    "            customer_deposit = int(input(\"Enter Your Deposit: \"))\n",
    "            self.__customer_balance += customer_deposit\n",
    "            print(\"DEPOSITED SUCCESS!\\n\")\n",
    "\n",
    "    def __withdraw(self):\n",
    "        if self.__check_password():\n",
    "            customer_withdraw = float(input(\"Enter Your Withdraw: \"))\n",
    "            if customer_withdraw <= self.__customer_balance:\n",
    "                self.__customer_balance -= customer_withdraw\n",
    "                self.__taxes()\n",
    "                print(\"Taxes have been deducted from your balance\")\n",
    "                print(\"successful , please take the money from the machine\")\n",
    "                print(f\"your new balance is {self.__customer_balance}\")\n",
    "                \n",
    "            else:\n",
    "                print(f\"Try again, Your withdraw is more than your balance --> {self.__customer_balance}\\n\")\n",
    "            \n",
    "    \n",
    "    def __show_balance(self):\n",
    "        if self.__check_password():\n",
    "            print(f\"Your balance is {self.__customer_balance}\")\n",
    "    \n",
    "    def __taxes(self):\n",
    "        self.__customer_balance -= 5\n",
    "    \n",
    "    def __change_password(self): \n",
    "        password = int(input(\"please enter your old password: \"))\n",
    "        if password == self.__customer_password:\n",
    "            self.__customer_password = int(input(\"Enter your new password: \"))\n",
    "            print(\"your password has been changed successfully!!\")\n",
    "    \n",
    "    # Abstraction\n",
    "    def set_transaction(self):\n",
    "        while True:\n",
    "            action = int(input(\"\\nPlease enter your transaction:\\n1. Deposit 2. Withdraw 3. Show Your balance 4. Change your password 5. Exit : \"))\n",
    "            if action == 1:\n",
    "                self.__deposit()\n",
    "            elif action == 2:\n",
    "                self.__withdraw()\n",
    "            elif action == 3:\n",
    "                self.__show_balance()\n",
    "            elif action == 4:\n",
    "                self.__change_password()\n",
    "            else:\n",
    "                break"
   ]
  },
  {
   "cell_type": "code",
   "execution_count": 10,
   "id": "369b22b1",
   "metadata": {},
   "outputs": [
    {
     "name": "stdout",
     "output_type": "stream",
     "text": [
      "Please enter your name: Mohamed\n",
      "Please enter the password: 159\n",
      "Please enter Your balance: 1500\n",
      "\n",
      "Please enter your transaction:\n",
      "1. Deposit 2. Withdraw 3. Show Your balance 4. Change your password 5. Exit : 1\n",
      "\n",
      "Please enter your password: 159\n",
      "Enter Your Deposit: 1500\n",
      "DEPOSITED SUCCESS!\n",
      "\n",
      "\n",
      "Please enter your transaction:\n",
      "1. Deposit 2. Withdraw 3. Show Your balance 4. Change your password 5. Exit : 3\n",
      "\n",
      "Please enter your password: 159\n",
      "Your balance is 3000.0\n",
      "\n",
      "Please enter your transaction:\n",
      "1. Deposit 2. Withdraw 3. Show Your balance 4. Change your password 5. Exit : 2\n",
      "\n",
      "Please enter your password: 159\n",
      "Enter Your Withdraw: 1000\n",
      "Taxes have been deducted from your balance\n",
      "successful , please take the money from the machine\n",
      "your new balance is 1995.0\n",
      "\n",
      "Please enter your transaction:\n",
      "1. Deposit 2. Withdraw 3. Show Your balance 4. Change your password 5. Exit : 3\n",
      "\n",
      "Please enter your password: 159\n",
      "Your balance is 1995.0\n",
      "\n",
      "Please enter your transaction:\n",
      "1. Deposit 2. Withdraw 3. Show Your balance 4. Change your password 5. Exit : 4\n",
      "please enter your old password: 1\n",
      "\n",
      "Please enter your transaction:\n",
      "1. Deposit 2. Withdraw 3. Show Your balance 4. Change your password 5. Exit : 4\n",
      "please enter your old password: 159\n",
      "Enter your new password: 357\n",
      "your password has been changed successfully!!\n",
      "\n",
      "Please enter your transaction:\n",
      "1. Deposit 2. Withdraw 3. Show Your balance 4. Change your password 5. Exit : 1\n",
      "\n",
      "Please enter your password: 3\n",
      "\n",
      "Please enter your transaction:\n",
      "1. Deposit 2. Withdraw 3. Show Your balance 4. Change your password 5. Exit : 1\n",
      "\n",
      "Please enter your password: 159\n",
      "\n",
      "Please enter your transaction:\n",
      "1. Deposit 2. Withdraw 3. Show Your balance 4. Change your password 5. Exit : 1\n",
      "\n",
      "Please enter your password: 357\n",
      "Enter Your Deposit: 2000\n",
      "DEPOSITED SUCCESS!\n",
      "\n",
      "\n",
      "Please enter your transaction:\n",
      "1. Deposit 2. Withdraw 3. Show Your balance 4. Change your password 5. Exit : 4\n",
      "please enter your old password: 357\n",
      "Enter your new password: 357\n",
      "your password has been changed successfully!!\n",
      "\n",
      "Please enter your transaction:\n",
      "1. Deposit 2. Withdraw 3. Show Your balance 4. Change your password 5. Exit : 3\n",
      "\n",
      "Please enter your password: 357\n",
      "Your balance is 3995.0\n",
      "\n",
      "Please enter your transaction:\n",
      "1. Deposit 2. Withdraw 3. Show Your balance 4. Change your password 5. Exit : 5\n"
     ]
    }
   ],
   "source": [
    "mohamed = Bankaccount()"
   ]
  },
  {
   "cell_type": "code",
   "execution_count": null,
   "id": "95321a1d",
   "metadata": {},
   "outputs": [],
   "source": []
  },
  {
   "cell_type": "code",
   "execution_count": 97,
   "id": "bb5ef206",
   "metadata": {},
   "outputs": [],
   "source": [
    "class Car():\n",
    "    \n",
    "    def __init__(self):\n",
    "        self.car_name = input(\"Enter the name of car: \")\n",
    "        self.model_year = int(input(\"Enter the model year of car: \"))\n",
    "        self.speed = int(input(\"Enter the maximum speed of car: \"))\n",
    "        \n",
    "    def show_name(self):\n",
    "        print(self.car_name)\n",
    "    \n",
    "    def show_model_year(self):\n",
    "        print(self.model_year)\n",
    "    \n",
    "    def show_speed(self):\n",
    "        print(self.speed)"
   ]
  },
  {
   "cell_type": "code",
   "execution_count": 98,
   "id": "d6fb55d2",
   "metadata": {},
   "outputs": [],
   "source": [
    "# inheritance\n",
    "class Bmw(Car):\n",
    "    \n",
    "    # polymorphism\n",
    "    def show_speed(self):\n",
    "        print(self.speed + 100)"
   ]
  },
  {
   "cell_type": "code",
   "execution_count": 99,
   "id": "75372264",
   "metadata": {},
   "outputs": [
    {
     "name": "stdout",
     "output_type": "stream",
     "text": [
      "Enter the name of car: BMW\n",
      "Enter the model year of car: 2022\n",
      "Enter the maximum speed of car: 2000\n"
     ]
    }
   ],
   "source": [
    "b = Bmw()"
   ]
  },
  {
   "cell_type": "code",
   "execution_count": 100,
   "id": "7f4741d3",
   "metadata": {},
   "outputs": [
    {
     "name": "stdout",
     "output_type": "stream",
     "text": [
      "BMW\n"
     ]
    }
   ],
   "source": [
    "b.show_name()"
   ]
  },
  {
   "cell_type": "code",
   "execution_count": 101,
   "id": "bc216f41",
   "metadata": {},
   "outputs": [
    {
     "name": "stdout",
     "output_type": "stream",
     "text": [
      "2022\n"
     ]
    }
   ],
   "source": [
    "b.show_model_year()"
   ]
  },
  {
   "cell_type": "code",
   "execution_count": 102,
   "id": "846d4459",
   "metadata": {},
   "outputs": [
    {
     "name": "stdout",
     "output_type": "stream",
     "text": [
      "2100\n"
     ]
    }
   ],
   "source": [
    "b.show_speed()"
   ]
  },
  {
   "cell_type": "code",
   "execution_count": null,
   "id": "a09cb501",
   "metadata": {},
   "outputs": [],
   "source": []
  },
  {
   "cell_type": "code",
   "execution_count": 2,
   "id": "9a2158aa",
   "metadata": {},
   "outputs": [],
   "source": [
    "# Composition\n",
    "class Car2():\n",
    "    \n",
    "    def __init__(self):\n",
    "        self.__attributes = dict()\n",
    "        self.__methods = dict()\n",
    "        \n",
    "    def add_attribute(self,attr_name,attr_value):\n",
    "        self.__attributes[attr_name] = attr_value\n",
    "    \n",
    "    def remove_attribute(self,attr_name):\n",
    "        del self.__attributes[attr_name]\n",
    "    \n",
    "    def show_attribute(self):\n",
    "        for i in self.__attributes:\n",
    "            print(i, self.__attributes[i])\n",
    "            \n",
    "    def add_method(self, method_name, method_body):\n",
    "        self.__methods[method_name] = method_body\n",
    "    \n",
    "    def call_method(self, method_name):\n",
    "        self.__methods[method_name]()"
   ]
  },
  {
   "cell_type": "code",
   "execution_count": 3,
   "id": "32c7667e",
   "metadata": {},
   "outputs": [],
   "source": [
    "new_car = Car2()"
   ]
  },
  {
   "cell_type": "code",
   "execution_count": 4,
   "id": "f2270aee",
   "metadata": {},
   "outputs": [],
   "source": [
    "new_car.add_attribute(\"Name\",\"BYD\")"
   ]
  },
  {
   "cell_type": "code",
   "execution_count": 5,
   "id": "1e31a89d",
   "metadata": {},
   "outputs": [
    {
     "name": "stdout",
     "output_type": "stream",
     "text": [
      "Name BYD\n"
     ]
    }
   ],
   "source": [
    "new_car.show_attribute()"
   ]
  },
  {
   "cell_type": "code",
   "execution_count": 6,
   "id": "af3c2783",
   "metadata": {},
   "outputs": [],
   "source": [
    "def print_name():\n",
    "    print(\"Mohamed\")"
   ]
  },
  {
   "cell_type": "code",
   "execution_count": 7,
   "id": "9e5df7d7",
   "metadata": {},
   "outputs": [],
   "source": [
    "new_car.add_method(\"print_name\", print_name)"
   ]
  },
  {
   "cell_type": "code",
   "execution_count": 8,
   "id": "d3cc7d41",
   "metadata": {},
   "outputs": [
    {
     "name": "stdout",
     "output_type": "stream",
     "text": [
      "Mohamed\n"
     ]
    }
   ],
   "source": [
    "new_car.call_method(\"print_name\")"
   ]
  },
  {
   "cell_type": "code",
   "execution_count": null,
   "id": "2dbb1da8",
   "metadata": {},
   "outputs": [],
   "source": []
  }
 ],
 "metadata": {
  "kernelspec": {
   "display_name": "Python 3 (ipykernel)",
   "language": "python",
   "name": "python3"
  },
  "language_info": {
   "codemirror_mode": {
    "name": "ipython",
    "version": 3
   },
   "file_extension": ".py",
   "mimetype": "text/x-python",
   "name": "python",
   "nbconvert_exporter": "python",
   "pygments_lexer": "ipython3",
   "version": "3.9.7"
  },
  "varInspector": {
   "cols": {
    "lenName": 16,
    "lenType": 16,
    "lenVar": 40
   },
   "kernels_config": {
    "python": {
     "delete_cmd_postfix": "",
     "delete_cmd_prefix": "del ",
     "library": "var_list.py",
     "varRefreshCmd": "print(var_dic_list())"
    },
    "r": {
     "delete_cmd_postfix": ") ",
     "delete_cmd_prefix": "rm(",
     "library": "var_list.r",
     "varRefreshCmd": "cat(var_dic_list()) "
    }
   },
   "types_to_exclude": [
    "module",
    "function",
    "builtin_function_or_method",
    "instance",
    "_Feature"
   ],
   "window_display": false
  }
 },
 "nbformat": 4,
 "nbformat_minor": 5
}
