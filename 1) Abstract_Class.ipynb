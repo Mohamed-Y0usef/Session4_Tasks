{
 "cells": [
  {
   "cell_type": "code",
   "execution_count": 66,
   "id": "5955ba0d",
   "metadata": {},
   "outputs": [],
   "source": [
    "from abc import ABCMeta, abstractmethod"
   ]
  },
  {
   "cell_type": "code",
   "execution_count": 127,
   "id": "2566ed9f",
   "metadata": {},
   "outputs": [],
   "source": [
    "class player(metaclass = ABCMeta):\n",
    "    \n",
    "    def __init__(self):\n",
    "        self.tall = 1.85\n",
    "    \n",
    "    @abstractmethod\n",
    "    def player_name(self):\n",
    "        pass\n",
    "    \n",
    "    @abstractmethod\n",
    "    def player_team(self):\n",
    "        pass\n",
    "    \n",
    "    def notabstractmethod(self):\n",
    "        print(\"none\")"
   ]
  },
  {
   "cell_type": "code",
   "execution_count": 128,
   "id": "3a590c89",
   "metadata": {},
   "outputs": [],
   "source": [
    "class ronaldo(player):\n",
    "    \n",
    "    def player_name(self):\n",
    "        print(\"C.Ronaldo\")\n",
    "    \n",
    "    def player_team(self):\n",
    "        print(\"Manchester united\")"
   ]
  },
  {
   "cell_type": "code",
   "execution_count": 129,
   "id": "8ed45984",
   "metadata": {},
   "outputs": [],
   "source": [
    "r = ronaldo()"
   ]
  },
  {
   "cell_type": "code",
   "execution_count": 130,
   "id": "8b27bc0b",
   "metadata": {},
   "outputs": [
    {
     "data": {
      "text/plain": [
       "1.85"
      ]
     },
     "execution_count": 130,
     "metadata": {},
     "output_type": "execute_result"
    }
   ],
   "source": [
    "r.tall"
   ]
  },
  {
   "cell_type": "code",
   "execution_count": 131,
   "id": "567a7bd4",
   "metadata": {},
   "outputs": [
    {
     "name": "stdout",
     "output_type": "stream",
     "text": [
      "none\n"
     ]
    }
   ],
   "source": [
    "r.notabstractmethod()"
   ]
  },
  {
   "cell_type": "code",
   "execution_count": 132,
   "id": "d9c8db67",
   "metadata": {},
   "outputs": [
    {
     "name": "stdout",
     "output_type": "stream",
     "text": [
      "C.Ronaldo\n"
     ]
    }
   ],
   "source": [
    "r.player_name()"
   ]
  },
  {
   "cell_type": "code",
   "execution_count": 133,
   "id": "1e7de589",
   "metadata": {},
   "outputs": [
    {
     "name": "stdout",
     "output_type": "stream",
     "text": [
      "Manchester united\n"
     ]
    }
   ],
   "source": [
    "r.player_team()"
   ]
  },
  {
   "cell_type": "code",
   "execution_count": 134,
   "id": "4a20055f",
   "metadata": {},
   "outputs": [
    {
     "name": "stdout",
     "output_type": "stream",
     "text": [
      "none\n"
     ]
    }
   ],
   "source": [
    "r.notabstractmethod()"
   ]
  },
  {
   "cell_type": "code",
   "execution_count": 135,
   "id": "2e13e78a",
   "metadata": {},
   "outputs": [],
   "source": [
    "class messi(player):\n",
    "    \n",
    "    def player_name(self):\n",
    "        print(\"L.messi\")\n",
    "    \n",
    "    def player_team(self):\n",
    "        print(\"PSG\")\n",
    "    \n",
    "    def first_club(self):\n",
    "        print(\"Barcelona\")"
   ]
  },
  {
   "cell_type": "code",
   "execution_count": 136,
   "id": "04a714f8",
   "metadata": {},
   "outputs": [],
   "source": [
    "m = messi()"
   ]
  },
  {
   "cell_type": "code",
   "execution_count": 137,
   "id": "f6860e95",
   "metadata": {},
   "outputs": [
    {
     "name": "stdout",
     "output_type": "stream",
     "text": [
      "L.messi\n"
     ]
    }
   ],
   "source": [
    "m.player_name()"
   ]
  },
  {
   "cell_type": "code",
   "execution_count": 138,
   "id": "bb8cdc33",
   "metadata": {},
   "outputs": [
    {
     "name": "stdout",
     "output_type": "stream",
     "text": [
      "PSG\n"
     ]
    }
   ],
   "source": [
    "m.player_team()"
   ]
  },
  {
   "cell_type": "code",
   "execution_count": 139,
   "id": "ca91a1a4",
   "metadata": {},
   "outputs": [
    {
     "name": "stdout",
     "output_type": "stream",
     "text": [
      "none\n"
     ]
    }
   ],
   "source": [
    "m.notabstractmethod()"
   ]
  },
  {
   "cell_type": "code",
   "execution_count": 140,
   "id": "6c5734f8",
   "metadata": {},
   "outputs": [
    {
     "name": "stdout",
     "output_type": "stream",
     "text": [
      "Barcelona\n"
     ]
    }
   ],
   "source": [
    "m.first_club()"
   ]
  },
  {
   "cell_type": "code",
   "execution_count": null,
   "id": "e5812e30",
   "metadata": {},
   "outputs": [],
   "source": []
  }
 ],
 "metadata": {
  "kernelspec": {
   "display_name": "Python 3 (ipykernel)",
   "language": "python",
   "name": "python3"
  },
  "language_info": {
   "codemirror_mode": {
    "name": "ipython",
    "version": 3
   },
   "file_extension": ".py",
   "mimetype": "text/x-python",
   "name": "python",
   "nbconvert_exporter": "python",
   "pygments_lexer": "ipython3",
   "version": "3.9.7"
  }
 },
 "nbformat": 4,
 "nbformat_minor": 5
}
