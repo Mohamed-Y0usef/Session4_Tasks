{
 "cells": [
  {
   "cell_type": "code",
   "execution_count": 127,
   "id": "c27204e8",
   "metadata": {},
   "outputs": [],
   "source": [
    "class Parent_A():\n",
    "    def __init__(self):\n",
    "        self.class_name = input(\"Enter a class name: \")\n",
    "        self.print_name()\n",
    "    \n",
    "    def print_name(self):\n",
    "        print(self.class_name)"
   ]
  },
  {
   "cell_type": "code",
   "execution_count": 128,
   "id": "15c067ae",
   "metadata": {},
   "outputs": [],
   "source": [
    "class First_Child_B(Parent_A):\n",
    "    def welcome(self):\n",
    "        print(f\"Welcome From Class {self.class_name}\")"
   ]
  },
  {
   "cell_type": "code",
   "execution_count": 129,
   "id": "a3e185e4",
   "metadata": {},
   "outputs": [],
   "source": [
    "class Second_Child_C(Parent_A):\n",
    "    def welcome(self):\n",
    "        print(\"Welcome From Class C\")\n",
    "    \n",
    "    def hi(self):\n",
    "        print(\"Hi Form C\")"
   ]
  },
  {
   "cell_type": "code",
   "execution_count": 130,
   "id": "41308065",
   "metadata": {},
   "outputs": [],
   "source": [
    "class Sub_Child_D(First_Child_B, Second_Child_C):\n",
    "    def only_D(self):\n",
    "        print(\"This function for only D\")"
   ]
  },
  {
   "cell_type": "code",
   "execution_count": 131,
   "id": "41d12826",
   "metadata": {},
   "outputs": [
    {
     "name": "stdout",
     "output_type": "stream",
     "text": [
      "Enter a class name: A\n",
      "A\n"
     ]
    }
   ],
   "source": [
    "A = Parent_A()"
   ]
  },
  {
   "cell_type": "code",
   "execution_count": 132,
   "id": "b2f434fe",
   "metadata": {},
   "outputs": [
    {
     "name": "stdout",
     "output_type": "stream",
     "text": [
      "Enter a class name: B\n",
      "B\n"
     ]
    }
   ],
   "source": [
    "B = First_Child_B()"
   ]
  },
  {
   "cell_type": "code",
   "execution_count": 133,
   "id": "20f825f5",
   "metadata": {},
   "outputs": [
    {
     "name": "stdout",
     "output_type": "stream",
     "text": [
      "Enter a class name: C\n",
      "C\n"
     ]
    }
   ],
   "source": [
    "C = Second_Child_C()"
   ]
  },
  {
   "cell_type": "code",
   "execution_count": 134,
   "id": "68c7b9c0",
   "metadata": {
    "scrolled": true
   },
   "outputs": [
    {
     "name": "stdout",
     "output_type": "stream",
     "text": [
      "Enter a class name: D\n",
      "D\n"
     ]
    }
   ],
   "source": [
    "D = Sub_Child_D()"
   ]
  },
  {
   "cell_type": "code",
   "execution_count": 135,
   "id": "4452cf6c",
   "metadata": {},
   "outputs": [
    {
     "name": "stdout",
     "output_type": "stream",
     "text": [
      "Welcome From Class B\n"
     ]
    }
   ],
   "source": [
    "B.welcome()"
   ]
  },
  {
   "cell_type": "code",
   "execution_count": 136,
   "id": "33847678",
   "metadata": {},
   "outputs": [
    {
     "name": "stdout",
     "output_type": "stream",
     "text": [
      "Welcome From Class C\n"
     ]
    }
   ],
   "source": [
    "C.welcome()"
   ]
  },
  {
   "cell_type": "code",
   "execution_count": 137,
   "id": "d2942d93",
   "metadata": {},
   "outputs": [
    {
     "name": "stdout",
     "output_type": "stream",
     "text": [
      "Hi Form C\n"
     ]
    }
   ],
   "source": [
    "C.hi()"
   ]
  },
  {
   "cell_type": "code",
   "execution_count": 138,
   "id": "9cecca90",
   "metadata": {},
   "outputs": [
    {
     "name": "stdout",
     "output_type": "stream",
     "text": [
      "Welcome From Class D\n"
     ]
    }
   ],
   "source": [
    "D.welcome()"
   ]
  },
  {
   "cell_type": "code",
   "execution_count": 139,
   "id": "81922131",
   "metadata": {},
   "outputs": [
    {
     "name": "stdout",
     "output_type": "stream",
     "text": [
      "Hi Form C\n"
     ]
    }
   ],
   "source": [
    "D.hi()"
   ]
  },
  {
   "cell_type": "code",
   "execution_count": 140,
   "id": "8bb25c03",
   "metadata": {},
   "outputs": [
    {
     "name": "stdout",
     "output_type": "stream",
     "text": [
      "This function for only D\n"
     ]
    }
   ],
   "source": [
    "D.only_D()"
   ]
  },
  {
   "cell_type": "code",
   "execution_count": null,
   "id": "a3900d85",
   "metadata": {},
   "outputs": [],
   "source": []
  }
 ],
 "metadata": {
  "kernelspec": {
   "display_name": "Python 3 (ipykernel)",
   "language": "python",
   "name": "python3"
  },
  "language_info": {
   "codemirror_mode": {
    "name": "ipython",
    "version": 3
   },
   "file_extension": ".py",
   "mimetype": "text/x-python",
   "name": "python",
   "nbconvert_exporter": "python",
   "pygments_lexer": "ipython3",
   "version": "3.9.7"
  },
  "varInspector": {
   "cols": {
    "lenName": 16,
    "lenType": 16,
    "lenVar": 40
   },
   "kernels_config": {
    "python": {
     "delete_cmd_postfix": "",
     "delete_cmd_prefix": "del ",
     "library": "var_list.py",
     "varRefreshCmd": "print(var_dic_list())"
    },
    "r": {
     "delete_cmd_postfix": ") ",
     "delete_cmd_prefix": "rm(",
     "library": "var_list.r",
     "varRefreshCmd": "cat(var_dic_list()) "
    }
   },
   "types_to_exclude": [
    "module",
    "function",
    "builtin_function_or_method",
    "instance",
    "_Feature"
   ],
   "window_display": false
  }
 },
 "nbformat": 4,
 "nbformat_minor": 5
}
