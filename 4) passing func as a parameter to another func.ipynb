{
 "cells": [
  {
   "cell_type": "markdown",
   "id": "b784f409",
   "metadata": {},
   "source": [
    "Do we can passing function as a parameter to another function in python and c++ or not?\n",
    "\n",
    "Yes we can passing function as a parameter to another function in python and c++."
   ]
  },
  {
   "cell_type": "code",
   "execution_count": 37,
   "id": "b99fe603",
   "metadata": {},
   "outputs": [],
   "source": [
    "def print_message():\n",
    "    return (\"Hi Mohamed\")"
   ]
  },
  {
   "cell_type": "code",
   "execution_count": 42,
   "id": "1de3aeec",
   "metadata": {},
   "outputs": [],
   "source": [
    "def func(p):\n",
    "    print(p())"
   ]
  },
  {
   "cell_type": "code",
   "execution_count": 43,
   "id": "7f86ed2d",
   "metadata": {},
   "outputs": [
    {
     "name": "stdout",
     "output_type": "stream",
     "text": [
      "Hi Mohamed\n"
     ]
    }
   ],
   "source": [
    "func(print_message)"
   ]
  },
  {
   "cell_type": "code",
   "execution_count": null,
   "id": "c7d04a40",
   "metadata": {},
   "outputs": [],
   "source": []
  },
  {
   "cell_type": "code",
   "execution_count": 44,
   "id": "07fae4e7",
   "metadata": {},
   "outputs": [],
   "source": [
    "def Sum(n1, n2):\n",
    "    return n1 + n2"
   ]
  },
  {
   "cell_type": "code",
   "execution_count": 50,
   "id": "35202a5e",
   "metadata": {},
   "outputs": [],
   "source": [
    "def func2(s):\n",
    "    print(s(1,19))"
   ]
  },
  {
   "cell_type": "code",
   "execution_count": 51,
   "id": "3f01cbf3",
   "metadata": {},
   "outputs": [
    {
     "name": "stdout",
     "output_type": "stream",
     "text": [
      "20\n"
     ]
    }
   ],
   "source": [
    "func2(Sum)"
   ]
  },
  {
   "cell_type": "code",
   "execution_count": null,
   "id": "a563b88a",
   "metadata": {},
   "outputs": [],
   "source": []
  }
 ],
 "metadata": {
  "kernelspec": {
   "display_name": "Python 3 (ipykernel)",
   "language": "python",
   "name": "python3"
  },
  "language_info": {
   "codemirror_mode": {
    "name": "ipython",
    "version": 3
   },
   "file_extension": ".py",
   "mimetype": "text/x-python",
   "name": "python",
   "nbconvert_exporter": "python",
   "pygments_lexer": "ipython3",
   "version": "3.9.7"
  },
  "varInspector": {
   "cols": {
    "lenName": 16,
    "lenType": 16,
    "lenVar": 40
   },
   "kernels_config": {
    "python": {
     "delete_cmd_postfix": "",
     "delete_cmd_prefix": "del ",
     "library": "var_list.py",
     "varRefreshCmd": "print(var_dic_list())"
    },
    "r": {
     "delete_cmd_postfix": ") ",
     "delete_cmd_prefix": "rm(",
     "library": "var_list.r",
     "varRefreshCmd": "cat(var_dic_list()) "
    }
   },
   "types_to_exclude": [
    "module",
    "function",
    "builtin_function_or_method",
    "instance",
    "_Feature"
   ],
   "window_display": false
  }
 },
 "nbformat": 4,
 "nbformat_minor": 5
}
